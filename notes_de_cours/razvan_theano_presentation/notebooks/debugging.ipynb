{
 "metadata": {
  "name": "debugging"
 }, 
 "nbformat": 2, 
 "worksheets": [
  {
   "cells": [
    {
     "cell_type": "code", 
     "collapsed": false, 
     "input": [
      "import numpy, theano, theano.tensor as TT"
     ], 
     "language": "python", 
     "outputs": [
      {
       "output_type": "stream", 
       "stream": "stderr", 
       "text": [
        "WARNING (theano.tensor.blas): Failed to import scipy.linalg.blas.fblas. Falling back on slower implementations (No module named scipy.linalg.blas)"
       ]
      }
     ], 
     "prompt_number": 1
    }, 
    {
     "cell_type": "code", 
     "collapsed": true, 
     "input": [
      "theano.config.compute_test_value='warn'"
     ], 
     "language": "python", 
     "outputs": [], 
     "prompt_number": 2
    }, 
    {
     "cell_type": "code", 
     "collapsed": true, 
     "input": [
      "W1val = numpy.random.rand(2,10,10).astype(theano.config.floatX)", 
      "W1 = theano.shared(W1val, 'W1')", 
      "W2val = numpy.random.rand(15,20).astype(theano.config.floatX)", 
      "W2 = theano.shared(W2val, 'W2')"
     ], 
     "language": "python", 
     "outputs": [], 
     "prompt_number": 4
    }, 
    {
     "cell_type": "code", 
     "collapsed": true, 
     "input": [
      "x = TT.matrix('x')"
     ], 
     "language": "python", 
     "outputs": [], 
     "prompt_number": 3
    }, 
    {
     "cell_type": "code", 
     "collapsed": true, 
     "input": [
      "x.tag.test_value = numpy.random.rand(5,10)"
     ], 
     "language": "python", 
     "outputs": [], 
     "prompt_number": 5
    }, 
    {
     "cell_type": "code", 
     "collapsed": true, 
     "input": [
      "func_of_W1 = W1.dimshuffle(2,0,1).flatten(2).T"
     ], 
     "language": "python", 
     "outputs": [], 
     "prompt_number": 6
    }, 
    {
     "cell_type": "code", 
     "collapsed": false, 
     "input": [
      "h1 = TT.dot(x,func_of_W1)"
     ], 
     "language": "python", 
     "outputs": [
      {
       "ename": "ValueError", 
       "evalue": "('matrices are not aligned', (5, 10), (20, 10))", 
       "output_type": "pyerr", 
       "traceback": [
        "<span class=\"ansired\">---------------------------------------------------------------------------</span>\n<span class=\"ansired\">ValueError</span>                                Traceback (most recent call last)", 
        "<span class=\"ansigreen\">/home/rman/&lt;ipython-input-8-c7d80e323d9a&gt;</span> in <span class=\"ansicyan\">&lt;module&gt;</span><span class=\"ansiblue\">()</span>\n<span class=\"ansigreen\">----&gt; 1</span><span class=\"ansiyellow\"> </span>h1 <span class=\"ansiyellow\">=</span> TT<span class=\"ansiyellow\">.</span>dot<span class=\"ansiyellow\">(</span>x<span class=\"ansiyellow\">,</span>func_of_W1<span class=\"ansiyellow\">)</span><span class=\"ansiyellow\"></span>\n", 
        "<span class=\"ansigreen\">/home/rman/repos/theano/gof/op.pyc</span> in <span class=\"ansicyan\">__call__</span><span class=\"ansiblue\">(self, *inputs, **kwargs)</span>\n<span class=\"ansigreen\">    410</span>                         no_recycling=[])\n<span class=\"ansigreen\">    411</span> <span class=\"ansiyellow\"></span>\n<span class=\"ansigreen\">--&gt; 412</span><span class=\"ansiyellow\">                 </span>required <span class=\"ansiyellow\">=</span> thunk<span class=\"ansiyellow\">(</span><span class=\"ansiyellow\">)</span><span class=\"ansiyellow\"></span>\n<span class=\"ansigreen\">    413</span>                 <span class=\"ansigreen\">assert</span> <span class=\"ansigreen\">not</span> required <span class=\"ansired\"># We provided all inputs</span><span class=\"ansiyellow\"></span>\n<span class=\"ansigreen\">    414</span> <span class=\"ansiyellow\"></span>\n", 
        "<span class=\"ansigreen\">/home/rman/repos/theano/gof/op.pyc</span> in <span class=\"ansicyan\">rval</span><span class=\"ansiblue\">(p, i, o, n)</span>\n<span class=\"ansigreen\">    537</span>         <span class=\"ansired\"># default arguments are stored in the closure of &#96;rval&#96;</span>\n<span class=\"ansiyellow\"></span>\n<span class=\"ansigreen\">    538</span>         <span class=\"ansigreen\">def</span> rval<span class=\"ansiyellow\">(</span>p<span class=\"ansiyellow\">=</span>p<span class=\"ansiyellow\">,</span> i<span class=\"ansiyellow\">=</span>node_input_storage<span class=\"ansiyellow\">,</span> o<span class=\"ansiyellow\">=</span>node_output_storage<span class=\"ansiyellow\">,</span> n<span class=\"ansiyellow\">=</span>node<span class=\"ansiyellow\">)</span><span class=\"ansiyellow\">:</span><span class=\"ansiyellow\"></span>\n<span class=\"ansigreen\">--&gt; 539</span><span class=\"ansiyellow\">             </span>r <span class=\"ansiyellow\">=</span> p<span class=\"ansiyellow\">(</span>n<span class=\"ansiyellow\">,</span> <span class=\"ansiyellow\">[</span>x<span class=\"ansiyellow\">[</span><span class=\"ansicyan\">0</span><span class=\"ansiyellow\">]</span> <span class=\"ansigreen\">for</span> x <span class=\"ansigreen\">in</span> i<span class=\"ansiyellow\">]</span><span class=\"ansiyellow\">,</span> o<span class=\"ansiyellow\">)</span><span class=\"ansiyellow\"></span>\n<span class=\"ansigreen\">    540</span>             <span class=\"ansigreen\">for</span> o <span class=\"ansigreen\">in</span> node<span class=\"ansiyellow\">.</span>outputs<span class=\"ansiyellow\">:</span><span class=\"ansiyellow\"></span>\n<span class=\"ansigreen\">    541</span>                 compute_map<span class=\"ansiyellow\">[</span>o<span class=\"ansiyellow\">]</span><span class=\"ansiyellow\">[</span><span class=\"ansicyan\">0</span><span class=\"ansiyellow\">]</span> <span class=\"ansiyellow\">=</span> True<span class=\"ansiyellow\"></span>\n", 
        "<span class=\"ansigreen\">/home/rman/repos/theano/tensor/basic.pyc</span> in <span class=\"ansicyan\">perform</span><span class=\"ansiblue\">(self, node, inp, out)</span>\n<span class=\"ansigreen\">   5143</span>             <span class=\"ansired\"># the asarray is here because dot between two vectors gives a numpy float object</span>\n<span class=\"ansiyellow\"></span>\n<span class=\"ansigreen\">   5144</span>             <span class=\"ansired\"># but we need to return a 0d ndarray</span>\n<span class=\"ansiyellow\"></span>\n<span class=\"ansigreen\">-&gt; 5145</span><span class=\"ansiyellow\">             </span>z<span class=\"ansiyellow\">[</span><span class=\"ansicyan\">0</span><span class=\"ansiyellow\">]</span> <span class=\"ansiyellow\">=</span> numpy<span class=\"ansiyellow\">.</span>asarray<span class=\"ansiyellow\">(</span>numpy<span class=\"ansiyellow\">.</span>dot<span class=\"ansiyellow\">(</span>x<span class=\"ansiyellow\">,</span> y<span class=\"ansiyellow\">)</span><span class=\"ansiyellow\">)</span><span class=\"ansiyellow\"></span>\n<span class=\"ansigreen\">   5146</span>         <span class=\"ansigreen\">except</span> ValueError<span class=\"ansiyellow\">,</span> e<span class=\"ansiyellow\">:</span><span class=\"ansiyellow\"></span>\n<span class=\"ansigreen\">   5147</span>             <span class=\"ansired\"># The error raised by numpy has no shape information, we mean to add that</span>\n<span class=\"ansiyellow\"></span>\n", 
        "<span class=\"ansired\">ValueError</span>: (&apos;matrices are not aligned&apos;, (5, 10), (20, 10))"
       ]
      }
     ], 
     "prompt_number": 8
    }, 
    {
     "cell_type": "code", 
     "collapsed": true, 
     "input": [
      "x = TT.vector('x')"
     ], 
     "language": "python", 
     "outputs": [], 
     "prompt_number": 9
    }, 
    {
     "cell_type": "code", 
     "collapsed": false, 
     "input": [
      "y = TT.tanh(x ** 2)"
     ], 
     "language": "python", 
     "outputs": [
      {
       "output_type": "stream", 
       "stream": "stderr", 
       "text": [
        "/home/rman/repos/theano/tensor/basic.py:1177: UserWarning: Warning, Cannot compute test value: input 0 (x) of Op Elemwise{pow,no_inplace}(x, InplaceDimShuffle{x}.0) missing default value", 
        "  return pow(self,other)", 
        "-c:1: UserWarning: Warning, Cannot compute test value: input 0 (Elemwise{pow,no_inplace}.0) of Op Elemwise{tanh,no_inplace}(Elemwise{pow,no_inplace}.0) missing default value"
       ]
      }
     ], 
     "prompt_number": 11
    }, 
    {
     "cell_type": "code", 
     "collapsed": true, 
     "input": [
      "fn = theano.function([x], y)"
     ], 
     "language": "python", 
     "outputs": [], 
     "prompt_number": 12
    }, 
    {
     "cell_type": "code", 
     "collapsed": false, 
     "input": [
      "fn([1,2])"
     ], 
     "language": "python", 
     "outputs": [
      {
       "output_type": "pyout", 
       "prompt_number": 13, 
       "text": [
        "array([ 0.76159416,  0.9993293 ])"
       ]
      }
     ], 
     "prompt_number": 13
    }, 
    {
     "cell_type": "code", 
     "collapsed": false, 
     "input": [
      "y = TT.tanh(theano.printing.Print('intermediate_result')(x ** 2))"
     ], 
     "language": "python", 
     "outputs": [
      {
       "output_type": "stream", 
       "stream": "stderr", 
       "text": [
        "-c:1: UserWarning: Warning, Cannot compute test value: input 0 (Elemwise{pow,no_inplace}.0) of Op &lt;theano.printing.Print object at 0x30da8d0&gt;(Elemwise{pow,no_inplace}.0) missing default value", 
        "-c:1: UserWarning: Warning, Cannot compute test value: input 0 (&lt;theano.printing.Print object at 0x30da8d0&gt;.0) of Op Elemwise{tanh,no_inplace}(&lt;theano.printing.Print object at 0x30da8d0&gt;.0) missing default value"
       ]
      }
     ], 
     "prompt_number": 14
    }, 
    {
     "cell_type": "code", 
     "collapsed": true, 
     "input": [
      "fn = theano.function([x], y)"
     ], 
     "language": "python", 
     "outputs": [], 
     "prompt_number": 15
    }, 
    {
     "cell_type": "code", 
     "collapsed": false, 
     "input": [
      "fn([1,2])"
     ], 
     "language": "python", 
     "outputs": [
      {
       "output_type": "stream", 
       "stream": "stdout", 
       "text": [
        "intermediate_result __str__ = [ 1.  4.]"
       ]
      }, 
      {
       "output_type": "pyout", 
       "prompt_number": 16, 
       "text": [
        "array([ 0.76159416,  0.9993293 ])"
       ]
      }
     ], 
     "prompt_number": 16
    }, 
    {
     "cell_type": "code", 
     "collapsed": false, 
     "input": [
      "theano.printing.pydotprint(fn, 'fn', with_ids=True)"
     ], 
     "language": "python", 
     "outputs": [
      {
       "output_type": "stream", 
       "stream": "stdout", 
       "text": [
        "The output file is available at fn.png"
       ]
      }
     ], 
     "prompt_number": 17
    }, 
    {
     "cell_type": "code", 
     "collapsed": true, 
     "input": [
      "fn = theano.function([x], y, mode='DEBUG_MODE')"
     ], 
     "language": "python", 
     "outputs": [], 
     "prompt_number": 18
    }, 
    {
     "cell_type": "code", 
     "collapsed": false, 
     "input": [
      "fn([1,2])"
     ], 
     "language": "python", 
     "outputs": [
      {
       "output_type": "stream", 
       "stream": "stdout", 
       "text": [
        "intermediate_result __str__ = [ 1.  4.]", 
        "intermediate_result __str__ = [ 1.  4.]", 
        "intermediate_result __str__ = [ 1.  4.]", 
        "intermediate_result __str__ = [ 1.  4.]"
       ]
      }, 
      {
       "output_type": "pyout", 
       "prompt_number": 19, 
       "text": [
        "array([ 0.76159416,  0.9993293 ])"
       ]
      }
     ], 
     "prompt_number": 19
    }, 
    {
     "cell_type": "code", 
     "collapsed": true, 
     "input": [], 
     "language": "python", 
     "outputs": [], 
     "prompt_number": "&nbsp;"
    }
   ]
  }
 ]
}