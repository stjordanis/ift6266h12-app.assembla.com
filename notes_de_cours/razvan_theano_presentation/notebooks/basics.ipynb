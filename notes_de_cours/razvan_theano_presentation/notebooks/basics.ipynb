{
 "metadata": {
  "name": "basics"
 }, 
 "nbformat": 2, 
 "worksheets": [
  {
   "cells": [
    {
     "cell_type": "code", 
     "collapsed": false, 
     "input": [
      "import numpy, theano, theano.tensor as TT"
     ], 
     "language": "python", 
     "outputs": [
      {
       "output_type": "stream", 
       "stream": "stderr", 
       "text": [
        "ERROR (theano.sandbox.cuda): nvcc compiler not found on $PATH. Check your nvcc installation and try again."
       ]
      }, 
      {
       "output_type": "stream", 
       "stream": "stderr", 
       "text": [
        "WARNING (theano.sandbox.cuda): Cuda is disabled, cuda-based code will thus not be working properly"
       ]
      }
     ], 
     "prompt_number": 1
    }, 
    {
     "cell_type": "code", 
     "collapsed": true, 
     "input": [
      "x = TT.fvector('xname')"
     ], 
     "language": "python", 
     "outputs": [], 
     "prompt_number": 2
    }, 
    {
     "cell_type": "code", 
     "collapsed": true, 
     "input": [
      "y = TT.fmatrix('yname')"
     ], 
     "language": "python", 
     "outputs": [], 
     "prompt_number": 3
    }, 
    {
     "cell_type": "code", 
     "collapsed": true, 
     "input": [
      "rval = x+y"
     ], 
     "language": "python", 
     "outputs": [], 
     "prompt_number": 4
    }, 
    {
     "cell_type": "code", 
     "collapsed": false, 
     "input": [
      "theano.pp(rval)"
     ], 
     "language": "python", 
     "outputs": [
      {
       "output_type": "pyout", 
       "prompt_number": 6, 
       "text": [
        "&apos;(xname + yname)&apos;"
       ]
      }
     ], 
     "prompt_number": 6
    }, 
    {
     "cell_type": "code", 
     "collapsed": false, 
     "input": [
      "fn = theano.function([x,y], [rval, TT.dot(y,x)])"
     ], 
     "language": "python", 
     "outputs": [], 
     "prompt_number": 12
    }, 
    {
     "cell_type": "code", 
     "collapsed": true, 
     "input": [
      "data_x = numpy.asarray([1,2,3], dtype='float32')"
     ], 
     "language": "python", 
     "outputs": [], 
     "prompt_number": 8
    }, 
    {
     "cell_type": "code", 
     "collapsed": true, 
     "input": [
      "data_y = numpy.asarray([[1,0,0],[0,1,0],[0,0,1]], dtype='float32')"
     ], 
     "language": "python", 
     "outputs": [], 
     "prompt_number": 9
    }, 
    {
     "cell_type": "code", 
     "collapsed": false, 
     "input": [
      "fn(data_x, data_y)"
     ], 
     "language": "python", 
     "outputs": [
      {
       "output_type": "pyout", 
       "prompt_number": 13, 
       "text": [
        "[array([[ 2.,  2.,  3.],", 
        "       [ 1.,  3.,  3.],", 
        "       [ 1.,  2.,  4.]], dtype=float32),", 
        " array([ 1.,  2.,  3.], dtype=float32)]"
       ]
      }
     ], 
     "prompt_number": 13
    }, 
    {
     "cell_type": "code", 
     "collapsed": true, 
     "input": [
      "data_x = numpy.asarray([1,2,3], dtype='float64')"
     ], 
     "language": "python", 
     "outputs": [], 
     "prompt_number": 12
    }, 
    {
     "cell_type": "code", 
     "collapsed": true, 
     "input": [
      "data_y = numpy.asarray([[1,0,0],[0,1,0],[0,0,1]], dtype='float64')"
     ], 
     "language": "python", 
     "outputs": [], 
     "prompt_number": 13
    }, 
    {
     "cell_type": "code", 
     "collapsed": true, 
     "input": [
      "fn(data_x, data_y)"
     ], 
     "language": "python", 
     "outputs": [], 
     "prompt_number": 14
    }, 
    {
     "cell_type": "code", 
     "collapsed": true, 
     "input": [
      "nw_fn = theano.function([x], -TT.log(TT.nnet.sigmoid(x)))"
     ], 
     "language": "python", 
     "outputs": [], 
     "prompt_number": 14
    }, 
    {
     "cell_type": "code", 
     "collapsed": false, 
     "input": [
      "theano.printing.debugprint(nw_fn)"
     ], 
     "language": "python", 
     "outputs": [
      {
       "output_type": "stream", 
       "stream": "stdout", 
       "text": [
        "Elemwise{Composite{scalar_softplus,neg}} [@154780876] &apos;&apos;   0", 
        " |xname [@154570348]"
       ]
      }
     ], 
     "prompt_number": 15
    }, 
    {
     "cell_type": "code", 
     "collapsed": false, 
     "input": [
      "theano.pp(nw_fn)"
     ], 
     "language": "python", 
     "outputs": [
      {
       "ename": "AttributeError", 
       "evalue": "'Function' object has no attribute 'owner'", 
       "output_type": "pyerr", 
       "traceback": [
        "<span class=\"ansired\">---------------------------------------------------------------------------</span>\n<span class=\"ansired\">AttributeError</span>                            Traceback (most recent call last)", 
        "<span class=\"ansigreen\">/home/exorcism/Desktop/notebooks/&lt;ipython-input-16-760138ccdcce&gt;</span> in <span class=\"ansicyan\">&lt;module&gt;</span><span class=\"ansiblue\">()</span>\n<span class=\"ansigreen\">----&gt; 1</span><span class=\"ansiyellow\"> </span>theano<span class=\"ansiyellow\">.</span>pp<span class=\"ansiyellow\">(</span>nw_fn<span class=\"ansiyellow\">)</span><span class=\"ansiyellow\"></span>\n", 
        "<span class=\"ansigreen\">/home/exorcism/repos/theano/printing.pyc</span> in <span class=\"ansicyan\">__call__</span><span class=\"ansiblue\">(self, *args)</span>\n<span class=\"ansigreen\">    341</span>     <span class=\"ansigreen\">def</span> __call__<span class=\"ansiyellow\">(</span>self<span class=\"ansiyellow\">,</span> <span class=\"ansiyellow\">*</span>args<span class=\"ansiyellow\">)</span><span class=\"ansiyellow\">:</span><span class=\"ansiyellow\"></span>\n<span class=\"ansigreen\">    342</span>         <span class=\"ansigreen\">if</span> len<span class=\"ansiyellow\">(</span>args<span class=\"ansiyellow\">)</span> <span class=\"ansiyellow\">==</span> <span class=\"ansicyan\">1</span><span class=\"ansiyellow\">:</span><span class=\"ansiyellow\"></span>\n<span class=\"ansigreen\">--&gt; 343</span><span class=\"ansiyellow\">             </span><span class=\"ansigreen\">return</span> self<span class=\"ansiyellow\">.</span>process<span class=\"ansiyellow\">(</span><span class=\"ansiyellow\">*</span>args<span class=\"ansiyellow\">)</span><span class=\"ansiyellow\"></span>\n<span class=\"ansigreen\">    344</span>         <span class=\"ansigreen\">elif</span> len<span class=\"ansiyellow\">(</span>args<span class=\"ansiyellow\">)</span> <span class=\"ansiyellow\">==</span> <span class=\"ansicyan\">2</span> <span class=\"ansigreen\">and</span> isinstance<span class=\"ansiyellow\">(</span>args<span class=\"ansiyellow\">[</span><span class=\"ansicyan\">1</span><span class=\"ansiyellow\">]</span><span class=\"ansiyellow\">,</span> <span class=\"ansiyellow\">(</span>PrinterState<span class=\"ansiyellow\">,</span> dict<span class=\"ansiyellow\">)</span><span class=\"ansiyellow\">)</span><span class=\"ansiyellow\">:</span><span class=\"ansiyellow\"></span>\n<span class=\"ansigreen\">    345</span>             <span class=\"ansigreen\">return</span> self<span class=\"ansiyellow\">.</span>process<span class=\"ansiyellow\">(</span><span class=\"ansiyellow\">*</span>args<span class=\"ansiyellow\">)</span><span class=\"ansiyellow\"></span>\n", 
        "<span class=\"ansigreen\">/home/exorcism/repos/theano/printing.pyc</span> in <span class=\"ansicyan\">process</span><span class=\"ansiblue\">(self, r, pstate)</span>\n<span class=\"ansigreen\">    287</span>             pstate <span class=\"ansiyellow\">=</span> PrinterState<span class=\"ansiyellow\">(</span>pprinter <span class=\"ansiyellow\">=</span> self<span class=\"ansiyellow\">,</span> <span class=\"ansiyellow\">**</span>pstate<span class=\"ansiyellow\">)</span><span class=\"ansiyellow\"></span>\n<span class=\"ansigreen\">    288</span>         <span class=\"ansigreen\">for</span> condition<span class=\"ansiyellow\">,</span> printer <span class=\"ansigreen\">in</span> self<span class=\"ansiyellow\">.</span>printers<span class=\"ansiyellow\">:</span><span class=\"ansiyellow\"></span>\n<span class=\"ansigreen\">--&gt; 289</span><span class=\"ansiyellow\">             </span><span class=\"ansigreen\">if</span> condition<span class=\"ansiyellow\">(</span>pstate<span class=\"ansiyellow\">,</span> r<span class=\"ansiyellow\">)</span><span class=\"ansiyellow\">:</span><span class=\"ansiyellow\"></span>\n<span class=\"ansigreen\">    290</span>                 <span class=\"ansigreen\">return</span> printer<span class=\"ansiyellow\">.</span>process<span class=\"ansiyellow\">(</span>r<span class=\"ansiyellow\">,</span> pstate<span class=\"ansiyellow\">)</span><span class=\"ansiyellow\"></span>\n<span class=\"ansigreen\">    291</span> <span class=\"ansiyellow\"></span>\n", 
        "<span class=\"ansigreen\">/home/exorcism/repos/theano/printing.pyc</span> in <span class=\"ansicyan\">&lt;lambda&gt;</span><span class=\"ansiblue\">(pstate, r)</span>\n<span class=\"ansigreen\">    278</span>         <span class=\"ansigreen\">if</span> isinstance<span class=\"ansiyellow\">(</span>condition<span class=\"ansiyellow\">,</span> gof<span class=\"ansiyellow\">.</span>Op<span class=\"ansiyellow\">)</span><span class=\"ansiyellow\">:</span><span class=\"ansiyellow\"></span>\n<span class=\"ansigreen\">    279</span>             op <span class=\"ansiyellow\">=</span> condition<span class=\"ansiyellow\"></span>\n<span class=\"ansigreen\">--&gt; 280</span><span class=\"ansiyellow\">             </span>condition <span class=\"ansiyellow\">=</span> <span class=\"ansigreen\">lambda</span> pstate<span class=\"ansiyellow\">,</span> r<span class=\"ansiyellow\">:</span> r<span class=\"ansiyellow\">.</span>owner <span class=\"ansigreen\">is</span> <span class=\"ansigreen\">not</span> None <span class=\"ansigreen\">and</span> r<span class=\"ansiyellow\">.</span>owner<span class=\"ansiyellow\">.</span>op <span class=\"ansiyellow\">==</span> op<span class=\"ansiyellow\"></span>\n<span class=\"ansigreen\">    281</span>         self<span class=\"ansiyellow\">.</span>printers<span class=\"ansiyellow\">.</span>insert<span class=\"ansiyellow\">(</span><span class=\"ansicyan\">0</span><span class=\"ansiyellow\">,</span> <span class=\"ansiyellow\">(</span>condition<span class=\"ansiyellow\">,</span> printer<span class=\"ansiyellow\">)</span><span class=\"ansiyellow\">)</span><span class=\"ansiyellow\"></span>\n<span class=\"ansigreen\">    282</span> <span class=\"ansiyellow\"></span>\n", 
        "<span class=\"ansired\">AttributeError</span>: &apos;Function&apos; object has no attribute &apos;owner&apos;"
       ]
      }
     ], 
     "prompt_number": 16
    }, 
    {
     "cell_type": "code", 
     "collapsed": false, 
     "input": [
      "theano.pp(nw_fn.maker.env.outputs[0])"
     ], 
     "language": "python", 
     "outputs": [
      {
       "output_type": "pyout", 
       "prompt_number": 17, 
       "text": [
        "&apos;Elemwise{Composite{scalar_softplus,neg}}(xname)&apos;"
       ]
      }
     ], 
     "prompt_number": 17
    }, 
    {
     "cell_type": "code", 
     "collapsed": false, 
     "input": [
      "theano.printing.pydotprint(nw_fn, 'nw_fn')"
     ], 
     "language": "python", 
     "outputs": [
      {
       "output_type": "stream", 
       "stream": "stdout", 
       "text": [
        "failed to import pydot. Yous must install pydot for this function to work."
       ]
      }
     ], 
     "prompt_number": 18
    }, 
    {
     "cell_type": "code", 
     "collapsed": true, 
     "input": [], 
     "language": "python", 
     "outputs": [], 
     "prompt_number": "&nbsp;"
    }
   ]
  }
 ]
}